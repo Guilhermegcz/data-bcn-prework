{
 "cells": [
  {
   "cell_type": "markdown",
   "metadata": {},
   "source": [
    "<img src=\"https://bit.ly/2VnXWr2\" width=\"100\" align=\"left\">"
   ]
  },
  {
   "cell_type": "markdown",
   "metadata": {},
   "source": [
    "# Duel of Sorcerers\n",
    "You are witnessing an epic battle between two powerful sorcerers: Gandalf and Saruman. Each sorcerer has 10 spells of variable power in their mind and they are going to throw them one after the other. The winner of the duel will be the one who wins more of those clashes between spells. Spells are represented as a list of 10 integers whose value equals the power of the spell.\n",
    "```\n",
    "gandalf = [10, 11, 13, 30, 22, 11, 10, 33, 22, 22]\n",
    "saruman = [23, 66, 12, 43, 12, 10, 44, 23, 12, 17]\n",
    "```\n",
    "For example:\n",
    "- The first clash is won by Saruman: 10 against 23.\n",
    "- The second clash is won by Saruman: 11 against 66.\n",
    "- ...\n",
    "\n",
    "You will create two variables, one for each sorcerer, where the sum of clashes won will be stored. Depending on which variable is greater at the end of the duel, you will show one of the following three results on the screen:\n",
    "* Gandalf wins\n",
    "* Saruman wins\n",
    "* Tie\n",
    "\n",
    "<img src=\"images/content_lightning_bolt_big.jpg\" width=\"400\">"
   ]
  },
  {
   "cell_type": "markdown",
   "metadata": {},
   "source": [
    "## Tools\n",
    "You don't necessarily need to use all the tools. Maybe you opt to use some of them or completely different ones, they are given to help you shape the exercise. Programming exercises can be solved in many different ways.\n",
    "\n",
    "1. Data structures: **lists, dictionaries**\n",
    "2. Loop: **for loop**\n",
    "3. Conditional statements: **if-elif-else**\n",
    "4. Functions: **range(), len(), print()**\n",
    "\n",
    "## Tasks\n",
    "\n",
    "#### 1. Create two variables called `gandalf` and `saruman` and assign them the spell power lists. Create a variable called `spells` to store the number of spells that the sorcerers cast. "
   ]
  },
  {
   "cell_type": "code",
   "execution_count": 1,
   "metadata": {},
   "outputs": [],
   "source": [
    "gandalf = [10, 11, 13, 30, 22, 11, 10, 33, 22, 22]\n",
    "saruman = [23, 66, 12, 43, 12, 10, 44, 23, 12, 17]"
   ]
  },
  {
   "cell_type": "markdown",
   "metadata": {},
   "source": [
    "#### 2. Create two variables called `gandalf_wins` and `saruman_wins`. Set both of them to 0. \n",
    "You will use these variables to count the number of clashes each sorcerer wins. "
   ]
  },
  {
   "cell_type": "code",
   "execution_count": 2,
   "metadata": {},
   "outputs": [],
   "source": [
    "gandalf_wins = 0\n",
    "saruman_wins = 0"
   ]
  },
  {
   "cell_type": "markdown",
   "metadata": {},
   "source": [
    "#### 3. Using the lists of spells of both sorcerers, update variables `gandalf_wins` and `saruman_wins` to count the number of times each sorcerer wins a clash. "
   ]
  },
  {
   "cell_type": "code",
   "execution_count": 3,
   "metadata": {},
   "outputs": [
    {
     "name": "stdout",
     "output_type": "stream",
     "text": [
      "Turno 1\n",
      "Gandalf 10 X 23 Saruman\n",
      "Vitorias: Gandalf 0 X 1 Saruman\n",
      "Turno 2\n",
      "Gandalf 11 X 66 Saruman\n",
      "Vitorias: Gandalf 0 X 2 Saruman\n",
      "Turno 3\n",
      "Gandalf 13 X 12 Saruman\n",
      "Vitorias: Gandalf 1 X 2 Saruman\n",
      "Turno 4\n",
      "Gandalf 30 X 43 Saruman\n",
      "Vitorias: Gandalf 1 X 3 Saruman\n",
      "Turno 5\n",
      "Gandalf 22 X 12 Saruman\n",
      "Vitorias: Gandalf 2 X 3 Saruman\n",
      "Turno 6\n",
      "Gandalf 11 X 10 Saruman\n",
      "Vitorias: Gandalf 3 X 3 Saruman\n",
      "Turno 7\n",
      "Gandalf 10 X 44 Saruman\n",
      "Vitorias: Gandalf 3 X 4 Saruman\n",
      "Turno 8\n",
      "Gandalf 33 X 23 Saruman\n",
      "Vitorias: Gandalf 4 X 4 Saruman\n",
      "Turno 9\n",
      "Gandalf 22 X 12 Saruman\n",
      "Vitorias: Gandalf 5 X 4 Saruman\n",
      "Turno 10\n",
      "Gandalf 22 X 17 Saruman\n",
      "Vitorias: Gandalf 6 X 4 Saruman\n"
     ]
    }
   ],
   "source": [
    "for turno in range(len(gandalf)):\n",
    "    spells = gandalf[0 + turno] - saruman[0 + turno]\n",
    "    if spells > 0:\n",
    "        gandalf_wins += 1\n",
    "        print(\"Turno {}\".format(turno + 1))\n",
    "        print(\"Gandalf {} X {} Saruman\".format(gandalf[0 + turno], saruman[0 + turno]))\n",
    "        print(\"Vitorias: Gandalf {} X {} Saruman\".format(gandalf_wins, saruman_wins))\n",
    "    elif spells < 0:\n",
    "        saruman_wins += 1\n",
    "        print(\"Turno {}\".format(turno + 1))\n",
    "        print(\"Gandalf {} X {} Saruman\".format(gandalf[0 + turno], saruman[0 + turno]))\n",
    "        print(\"Vitorias: Gandalf {} X {} Saruman\".format(gandalf_wins , saruman_wins))\n"
   ]
  },
  {
   "cell_type": "markdown",
   "metadata": {},
   "source": [
    "#### 4. Who won the battle?\n",
    "Print `Gandalf wins`, `Saruman wins` or `Tie` depending on the result. "
   ]
  },
  {
   "cell_type": "code",
   "execution_count": 4,
   "metadata": {},
   "outputs": [
    {
     "name": "stdout",
     "output_type": "stream",
     "text": [
      "--------Gandalf venceu--------\n"
     ]
    }
   ],
   "source": [
    "if gandalf_wins > saruman_wins:\n",
    "    print(\"--------Gandalf venceu--------\")\n",
    "if gandalf_wins < saruman_wins:\n",
    "    print(\"--------Saruman venceu--------\")\n",
    "if gandalf_wins == saruman_wins:\n",
    "    print(\"--------Empatou--------\")"
   ]
  },
  {
   "cell_type": "markdown",
   "metadata": {},
   "source": [
    "## Bonus\n",
    "\n",
    "In this bonus challenge, you'll need to check the winner of the battle but this time, a sorcerer wins if he succeeds in winning 3 spell clashes in a row.\n",
    "\n",
    "Also, the spells now have a name and there is a dictionary that associates that name to a power.\n",
    "\n",
    "```\n",
    "POWER = {\n",
    "    'Fireball': 50, \n",
    "    'Lightning bolt': 40, \n",
    "    'Magic arrow': 10, \n",
    "    'Black Tentacles': 25, \n",
    "    'Contagion': 45\n",
    "}\n",
    "\n",
    "gandalf = ['Fireball', 'Lightning bolt', 'Lightning bolt', 'Magic arrow', 'Fireball', \n",
    "           'Magic arrow', 'Lightning bolt', 'Fireball', 'Fireball', 'Fireball']\n",
    "saruman = ['Contagion', 'Contagion', 'Black Tentacles', 'Fireball', 'Black Tentacles', \n",
    "           'Lightning bolt', 'Magic arrow', 'Contagion', 'Magic arrow', 'Magic arrow']\n",
    "```\n",
    "\n",
    "#### 1. Create variables `POWER`, `gandalf` and `saruman` as seen above. Create a variable called `spells` to store the number of spells that the sorcerers cast. "
   ]
  },
  {
   "cell_type": "code",
   "execution_count": 2,
   "metadata": {},
   "outputs": [],
   "source": [
    "power = {\n",
    "    'Fireball': 50, \n",
    "    'Lightning bolt': 40, \n",
    "    'Magic arrow': 10, \n",
    "    'Black Tentacles': 25, \n",
    "    'Contagion': 45\n",
    "}\n",
    "\n",
    "gandalf = ['Fireball', 'Lightning bolt', 'Lightning bolt', 'Magic arrow', 'Fireball', \n",
    "           'Magic arrow', 'Lightning bolt', 'Fireball', 'Fireball', 'Fireball']\n",
    "saruman = ['Contagion', 'Contagion', 'Black Tentacles', 'Fireball', 'Black Tentacles', \n",
    "           'Lightning bolt', 'Magic arrow', 'Contagion', 'Magic arrow', 'Magic arrow']"
   ]
  },
  {
   "cell_type": "markdown",
   "metadata": {},
   "source": [
    "#### 2. Create two variables called `gandalf_wins` and `saruman_wins`. Set both of them to 0. "
   ]
  },
  {
   "cell_type": "code",
   "execution_count": 18,
   "metadata": {},
   "outputs": [],
   "source": [
    "gandalf_wins = 0\n",
    "saruman_wins = 0"
   ]
  },
  {
   "cell_type": "markdown",
   "metadata": {},
   "source": [
    "#### 3. Create two variables called `gandalf_power` and `saruman_power` to store the list of spell powers of each sorcerer."
   ]
  },
  {
   "cell_type": "code",
   "execution_count": 16,
   "metadata": {},
   "outputs": [],
   "source": [
    "gandalf_power = 0\n",
    "saruman_power = 0"
   ]
  },
  {
   "cell_type": "markdown",
   "metadata": {},
   "source": [
    "#### 4. The battle starts! Using the variables you've created above, code the execution of spell clashes. Remember that a sorcerer wins if he succeeds in winning 3 spell clashes in a row. \n",
    "If a clash ends up in a tie, the counter of wins in a row is not restarted to 0. Remember to print who is the winner of the battle. "
   ]
  },
  {
   "cell_type": "code",
   "execution_count": 19,
   "metadata": {},
   "outputs": [
    {
     "name": "stdout",
     "output_type": "stream",
     "text": [
      "1 Turno: Gandalf ganhou\n",
      "Gandalf: 1\n",
      "Saruman: 0\n",
      "2 Turno: Saruman ganhou\n",
      "Gandalf: 0\n",
      "Saruman: 1\n",
      "3 Turno: Gandalf ganhou\n",
      "Gandalf: 1\n",
      "Saruman: 0\n",
      "4 Turno: Saruman ganhou\n",
      "Gandalf: 0\n",
      "Saruman: 1\n",
      "5 Turno: Gandalf ganhou\n",
      "Gandalf: 1\n",
      "Saruman: 0\n",
      "6 Turno: Saruman ganhou\n",
      "Gandalf: 0\n",
      "Saruman: 1\n",
      "7 Turno: Gandalf ganhou\n",
      "Gandalf: 1\n",
      "Saruman: 0\n",
      "8 Turno: Gandalf ganhou\n",
      "Gandalf: 2\n",
      "Saruman: 0\n",
      "9 Turno: Gandalf ganhou\n",
      "Gandalf: 3\n",
      "Saruman: 0\n",
      "Fim do jogo: Gandalf 3 X 0 Saruman\n"
     ]
    }
   ],
   "source": [
    "for turno in range(len(gandalf)):\n",
    "    spells_gandalf = gandalf[0 + turno]\n",
    "    spells_saruman = saruman[0 + turno]\n",
    "    gandalf_power = power[spells_gandalf]\n",
    "    saruman_power = power[spells_saruman]\n",
    "    clashes = gandalf_power - saruman_power\n",
    "   \n",
    "    if clashes > 0:\n",
    "        print(\"{} Turno: Gandalf ganhou\".format(turno + 1))\n",
    "        gandalf_wins += 1\n",
    "        saruman_wins = 0\n",
    "        print(\"Gandalf:\", gandalf_wins)\n",
    "        print(\"Saruman:\", saruman_wins)\n",
    "    if clashes < 0:\n",
    "        print(\"{} Turno: Saruman ganhou\".format(turno + 1))\n",
    "        gandalf_wins = 0\n",
    "        saruman_wins += 1\n",
    "        print(\"Gandalf:\", gandalf_wins)\n",
    "        print(\"Saruman:\", saruman_wins)\n",
    "    if saruman_wins == 3 or gandalf_wins == 3:\n",
    "        print(\"Fim do jogo: Gandalf {} X {} Saruman\".format(gandalf_wins, saruman_wins))\n",
    "        break\n"
   ]
  },
  {
   "cell_type": "markdown",
   "metadata": {},
   "source": [
    "#### 5. Find the average spell power of Gandalf and Saruman. "
   ]
  },
  {
   "cell_type": "code",
   "execution_count": 21,
   "metadata": {},
   "outputs": [
    {
     "name": "stdout",
     "output_type": "stream",
     "text": [
      "Magias de Gandalf: [50, 40, 40, 10, 50, 10, 40, 50, 50, 50]\n",
      "Magias de Saruman: [45, 45, 25, 50, 25, 40, 10, 45, 10, 10]\n",
      "A media das magias do Gandalf são de 39.0\n",
      "A media das magias do Saruman são de 30.5\n"
     ]
    }
   ],
   "source": [
    "gandalf_power_list = []\n",
    "saruman_power_list = []\n",
    "\n",
    "for a in gandalf:\n",
    "    gandalf_power_list += [power[a]]\n",
    "\n",
    "for b in saruman:\n",
    "    saruman_power_list += [power[b]]\n",
    "\n",
    "print(\"Magias de Gandalf:\", gandalf_power_list)\n",
    "print(\"Magias de Saruman:\", saruman_power_list)\n",
    "\n",
    "avarage_gandalf = sum(gandalf_power_list) / len(gandalf_power_list)\n",
    "print(\"A media das magias do Gandalf são de {}\".format(round(avarage_gandalf, 2)))\n",
    "\n",
    "avarage_saruman = sum(saruman_power_list) / len(saruman_power_list)\n",
    "print(\"A media das magias do Saruman são de {}\".format(round(avarage_saruman, 2)))"
   ]
  },
  {
   "cell_type": "markdown",
   "metadata": {},
   "source": [
    "#### 6. Find the standard deviation of the spell power of Gandalf and Saruman. "
   ]
  },
  {
   "cell_type": "code",
   "execution_count": 22,
   "metadata": {},
   "outputs": [
    {
     "name": "stdout",
     "output_type": "stream",
     "text": [
      "O desvio padrão das magias do Gandalf é de: 15.951314818673865\n",
      "O desvio padrão das magias do Saruman é de: 16.40629960309962\n"
     ]
    }
   ],
   "source": [
    "from statistics import stdev\n",
    "\n",
    "print(\"O desvio padrão das magias do Gandalf é de: {}\".format(stdev(gandalf_power_list)))\n",
    "print(\"O desvio padrão das magias do Saruman é de: {}\".format(stdev(saruman_power_list)))"
   ]
  },
  {
   "cell_type": "code",
   "execution_count": null,
   "metadata": {},
   "outputs": [],
   "source": []
  }
 ],
 "metadata": {
  "kernelspec": {
   "display_name": "Python 3",
   "language": "python",
   "name": "python3"
  },
  "language_info": {
   "codemirror_mode": {
    "name": "ipython",
    "version": 3
   },
   "file_extension": ".py",
   "mimetype": "text/x-python",
   "name": "python",
   "nbconvert_exporter": "python",
   "pygments_lexer": "ipython3",
   "version": "3.7.3"
  }
 },
 "nbformat": 4,
 "nbformat_minor": 2
}
