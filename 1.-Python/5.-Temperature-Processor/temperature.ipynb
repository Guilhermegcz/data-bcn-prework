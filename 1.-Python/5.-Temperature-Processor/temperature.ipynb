{
 "cells": [
  {
   "cell_type": "markdown",
   "metadata": {},
   "source": [
    "<img src=\"https://bit.ly/2VnXWr2\" width=\"100\" align=\"left\">"
   ]
  },
  {
   "cell_type": "markdown",
   "metadata": {},
   "source": [
    "# Temperature Sensor\n",
    "\n",
    "There is a temperature sensor in the processor of your company's server. The company wants to analyze the data provided by the sensor to decide if they should change the cooling system for a better one. As changing the cooling system is expensive and you are an excellent data analyst, you can't make a decision without basis.\n",
    "\n",
    "## Tools\n",
    "You don't necessarily need to use all the tools. Maybe you opt to use some of them or completely different ones, they are given to help you shape the exercise. Programming exercises can be solved in many different ways.\n",
    "1. Data structures: **lists**\n",
    "2. Loops: **list comprehension**\n",
    "3. Functions: **min, max, print, len**\n",
    "4. Conditional statements: **if-elif-else**\n",
    "\n",
    "## Tasks\n",
    "The temperatures measured throughout the 24 hours of a day are:"
   ]
  },
  {
   "cell_type": "code",
   "execution_count": 58,
   "metadata": {},
   "outputs": [],
   "source": [
    "temperatures_C = [33, 66, 65, 0, 59, 60, 62, 64, 70, 76, 80, 81, 80, 83, 90, 79, 61, 53, 50, 49, 53, 48, 45, 39]"
   ]
  },
  {
   "cell_type": "markdown",
   "metadata": {},
   "source": [
    "The first element of the list is the temperature at 12am, the second element is the temperature at 1am, and so on. \n",
    "\n",
    "The company has decided that if one of the following events occurs, then the cooling system needs to be replaced for a new one to avoid damaging the processor.\n",
    "* More than 4 temperatures are greater than or equal to 70ºC.\n",
    "* Any temperature is above 80ºC.\n",
    "* The average temperature exceeds 65ºC.\n",
    "\n",
    "Follow the steps so that you can make the decision.\n",
    "\n",
    "#### 1. Find the minimum temperature of the day and store it in a variable."
   ]
  },
  {
   "cell_type": "code",
   "execution_count": 39,
   "metadata": {},
   "outputs": [
    {
     "name": "stdout",
     "output_type": "stream",
     "text": [
      "A menor temperatura foi 0ºC\n"
     ]
    }
   ],
   "source": [
    "minimum_temperature = min(temperatures_C)\n",
    "print(\"A menor temperatura foi {}ºC\".format(minimum_temperature))"
   ]
  },
  {
   "cell_type": "markdown",
   "metadata": {},
   "source": [
    "#### 2. Find the maximum temperature of the day and store it in a variable."
   ]
  },
  {
   "cell_type": "code",
   "execution_count": 25,
   "metadata": {},
   "outputs": [
    {
     "name": "stdout",
     "output_type": "stream",
     "text": [
      "A maior temperatura foi 90ºC\n"
     ]
    }
   ],
   "source": [
    "maximum_temperature = max(temperatures_C)\n",
    "print(\"A maior temperatura foi {}ºC\".format(maximum_temperature))"
   ]
  },
  {
   "cell_type": "markdown",
   "metadata": {},
   "source": [
    "#### 3. Create a list with the temperatures that are greater than or equal to 70ºC. Store it in a variable."
   ]
  },
  {
   "cell_type": "code",
   "execution_count": 26,
   "metadata": {},
   "outputs": [
    {
     "name": "stdout",
     "output_type": "stream",
     "text": [
      "Lista de temperaturas acima de 70ºC: [70, 76, 80, 81, 80, 83, 90, 79]\n"
     ]
    }
   ],
   "source": [
    "list_high_temperatures = []\n",
    "\n",
    "for t in temperatures_C:\n",
    "    if t >= 70:\n",
    "        list_high_temperatures.append(t)\n",
    "\n",
    "print(\"Lista de temperaturas acima de 70ºC:\", list_high_temperatures)"
   ]
  },
  {
   "cell_type": "markdown",
   "metadata": {},
   "source": [
    "#### 4. Find the average temperature of the day and store it in a variable."
   ]
  },
  {
   "cell_type": "code",
   "execution_count": 59,
   "metadata": {},
   "outputs": [
    {
     "name": "stdout",
     "output_type": "stream",
     "text": [
      "A média da temperatura é de: 60.25\n"
     ]
    }
   ],
   "source": [
    "avarage_temperature = sum(temperatures_C) / len(temperatures_C)\n",
    "\n",
    "print(\"A média da temperatura é de:\", avarage_temperature)"
   ]
  },
  {
   "cell_type": "markdown",
   "metadata": {},
   "source": [
    "#### 5. Imagine that there was a sensor failure at 3am and the data for that specific hour was not recorded. How would you estimate the missing value? Replace the current value of the list at 3am for an estimation. "
   ]
  },
  {
   "cell_type": "code",
   "execution_count": 56,
   "metadata": {},
   "outputs": [
    {
     "name": "stdout",
     "output_type": "stream",
     "text": [
      "Lista com temperatura estimada: [33, 66, 65, 76, 59, 60, 62, 64, 70, 76, 80, 81, 80, 83, 90, 79, 61, 53, 50, 49, 53, 48, 45, 39]\n"
     ]
    }
   ],
   "source": [
    "import random\n",
    "from statistics import stdev\n",
    "\n",
    "temperature_deviation = round(stdev(temperatures_C), 2)\n",
    "\n",
    "t1 = int(avarage_temperature - temperature_deviation)\n",
    "t2 = int(avarage_temperature + temperature_deviation)\n",
    "\n",
    "missing_value = random.randint(t1, t2)\n",
    "temperatures2 = list(temperatures_C)\n",
    "temperatures2[3] = missing_value\n",
    "\n",
    "print(\"Lista com temperatura estimada:\", temperatures2)"
   ]
  },
  {
   "cell_type": "markdown",
   "metadata": {},
   "source": [
    "#### 6. Bonus: the maintenance staff is from the United States and does not understand the international metric system. Help them by converting the temperatures from Celsius to Fahrenheit.\n",
    "To know more about temperature conversion check this [link](https://en.wikipedia.org/wiki/Conversion_of_units_of_temperature).\n",
    "\n",
    "**Formula**: \n",
    "\n",
    "$F = 1.8 * C + 32$"
   ]
  },
  {
   "cell_type": "code",
   "execution_count": 52,
   "metadata": {},
   "outputs": [
    {
     "name": "stdout",
     "output_type": "stream",
     "text": [
      "List Fahrenheit: [91, 150, 149, 32, 138, 140, 143, 147, 158, 168, 176, 177, 176, 181, 194, 174, 141, 127, 122, 120, 127, 118, 113, 102]\n"
     ]
    }
   ],
   "source": [
    "list_fahrenheit = []\n",
    "\n",
    "for f in temperatures_C:\n",
    "    list_fahrenheit.append(int(f*1.8 + 32))\n",
    "\n",
    "print(\"List Fahrenheit:\", list_fahrenheit)"
   ]
  },
  {
   "cell_type": "markdown",
   "metadata": {},
   "source": [
    "#### 7. Make a decision!\n",
    "Now it's time to make a decision taking into account what you have seen until now. \n",
    "\n",
    "Remember that if one of the following events occurs, then the cooling system needs to be replaced for a new one to avoid damaging the processor.\n",
    "* More than 4 temperatures are greater than or equal to 70ºC.\n",
    "* Any temperature is above 80ºC.\n",
    "* The average temperature exceeds 65ºC.\n",
    "\n",
    "#### To make your decision, check if any of the three conditions above is met. You might need to use some of the variables you created in steps 1 to 6. Print a message to show if the cooling system needs to be changed or not."
   ]
  },
  {
   "cell_type": "code",
   "execution_count": 11,
   "metadata": {},
   "outputs": [
    {
     "name": "stdout",
     "output_type": "stream",
     "text": [
      "Precisa trocar o sensor de temperatura\n"
     ]
    }
   ],
   "source": [
    "if len(list_high_temperatures) > 4 or maximum_temperature > 80 or avarage_temperature > 65:\n",
    "    print(\"Precisa trocar o sensor de temperatura\")\n",
    "else:\n",
    "    print(\"Não precisa trocar o sensor de temperatura\")"
   ]
  },
  {
   "cell_type": "markdown",
   "metadata": {},
   "source": [
    "## Bonus\n",
    "\n",
    "The company has decided that the decision you made is not valid. They want you to analyze the data again but this time, the conditions that need to be met in order to change the cooling system are different.\n",
    "\n",
    "This time, if one of the following events occurs, then the cooling system needs to be replaced:\n",
    "* The temperature is greater than 70ºC during more than 4 consecutive hours.\n",
    "* Any temperature is above 80ºC.\n",
    "* The average temperature exceeds 65ºC.\n",
    "\n",
    "Follow the steps so that you can make the decision.\n",
    "\n",
    "#### 1. Create a list with the hours where the temperature is greater than 70ºC. Store it in a variable."
   ]
  },
  {
   "cell_type": "code",
   "execution_count": 13,
   "metadata": {},
   "outputs": [
    {
     "name": "stdout",
     "output_type": "stream",
     "text": [
      "Horário com temperaturas acima de 70ºC ['10pm', '11pm', '12pm', '1am', '2am', '3am', '4am']\n"
     ]
    }
   ],
   "source": [
    "lista_horarios = [\"12am\", \"1pm\", \"2pm\", \"3pm\", \"4pm\", \"5pm\", \"6pm\", \"7pm\", \"8pm\", \"9pm\", \"10pm\", \"11pm\", \"12pm\", \"1am\", \"2am\", \"3am\", \"4am\", \"5am\", \"6am\", \"7am\", \"8am\", \"9am\", \"10am\", \"11am\"]\n",
    "\n",
    "horario_temperatura_alta = []\n",
    "index_t = 0\n",
    "for t in temperatures_C:\n",
    "    index_t += 1\n",
    "    if t > 70:\n",
    "        horario_temperatura_alta.append(lista_horarios[index_t])\n",
    "\n",
    "print(\"Horário com temperaturas acima de 70ºC\", horario_temperatura_alta)"
   ]
  },
  {
   "cell_type": "markdown",
   "metadata": {},
   "source": [
    "#### 2. Check if the list you created in step 1 has more than 4 consecutive hours. "
   ]
  },
  {
   "cell_type": "code",
   "execution_count": 15,
   "metadata": {},
   "outputs": [
    {
     "name": "stdout",
     "output_type": "stream",
     "text": [
      "O sensor acusou mais de 4 horas seguidas\n"
     ]
    }
   ],
   "source": [
    "quebrado = False\n",
    "horas_consecutivas = 0\n",
    "for t in temperatures_C:\n",
    "    if t > 70:\n",
    "        horas_consecutivas += 1\n",
    "    elif horas_consecutivas >= 4:\n",
    "        quebrado = True\n",
    "        print(\"O sensor acusou mais de 4 horas seguidas\")\n",
    "    if t < 70:\n",
    "        horas_consecutivas = 0\n"
   ]
  },
  {
   "cell_type": "markdown",
   "metadata": {},
   "source": [
    "#### 3. Make the decision!\n",
    "To make your decision, check if any of the three conditions is met. Print a message to show if the cooling system needs to be changed or not."
   ]
  },
  {
   "cell_type": "code",
   "execution_count": 16,
   "metadata": {},
   "outputs": [
    {
     "name": "stdout",
     "output_type": "stream",
     "text": [
      "Precisa trocar o sensor de temperatura\n"
     ]
    }
   ],
   "source": [
    "if quebrado == True or maximum_temperature > 80 or avarage_temperature > 65:\n",
    "    print(\"Precisa trocar o sensor de temperatura\")\n",
    "else:\n",
    "    print(\"Não precisa trocar o sensor de temperatura\")"
   ]
  },
  {
   "cell_type": "markdown",
   "metadata": {},
   "source": [
    "#### 4. Find the average value of the temperature lists (ºC and ºF). What is the relation between both average values?"
   ]
  },
  {
   "cell_type": "code",
   "execution_count": 63,
   "metadata": {},
   "outputs": [
    {
     "name": "stdout",
     "output_type": "stream",
     "text": [
      "A média da temperatura em ºC é de: 60.25\n",
      "A média da temperatura em Fahrenheit é de 140\n",
      "As médias são geometricamente iguais, a conversão pode ser feita aplicando a mesma fórmula utilizada para converter as temperaturas\n"
     ]
    }
   ],
   "source": [
    "avarage_temperature = sum(temperatures_C) / len(temperatures_C)\n",
    "print(\"A média da temperatura em ºC é de:\", avarage_temperature)\n",
    "\n",
    "avarage_temperature_f = int(sum(list_fahrenheit) / len(list_fahrenheit))\n",
    "print(\"A média da temperatura em Fahrenheit é de\", avarage_temperature_f)\n",
    "\n",
    "print(\"As médias são geometricamente iguais, a conversão pode ser feita aplicando a mesma fórmula utilizada para converter as temperaturas\")"
   ]
  },
  {
   "cell_type": "markdown",
   "metadata": {},
   "source": [
    "#### 5. Find the standard deviation of the temperature lists (ºC and ºF). What is the relation between both standard deviations?"
   ]
  },
  {
   "cell_type": "code",
   "execution_count": 67,
   "metadata": {},
   "outputs": [
    {
     "name": "stdout",
     "output_type": "stream",
     "text": [
      "Standard deviation para ºC 19.7\n",
      "Standard deviation para ºF 35.42\n",
      "Para obtermos o desvio padrão em outra unidade de medida, não podemos utilizar diretamente a fórmula de coversão, tempo que transformar cada dado individualmente e calcular assim, o desvio padrão\n"
     ]
    }
   ],
   "source": [
    "from statistics import stdev\n",
    "\n",
    "temperature_deviation_c = round(stdev(temperatures_C), 2)\n",
    "temperature_deviation_f = round(stdev(list_fahrenheit),2)\n",
    "\n",
    "print(\"Standard deviation para ºC\", temperature_deviation_c)\n",
    "print(\"Standard deviation para ºF\",temperature_deviation_f)\n",
    "\n",
    "print(\"Para obtermos o desvio padrão em outra unidade de medida, não podemos utilizar diretamente a fórmula de coversão, tempo que transformar cada dado individualmente e calcular assim, o desvio padrão\")"
   ]
  },
  {
   "cell_type": "code",
   "execution_count": null,
   "metadata": {},
   "outputs": [],
   "source": []
  }
 ],
 "metadata": {
  "kernelspec": {
   "display_name": "Python 3",
   "language": "python",
   "name": "python3"
  },
  "language_info": {
   "codemirror_mode": {
    "name": "ipython",
    "version": 3
   },
   "file_extension": ".py",
   "mimetype": "text/x-python",
   "name": "python",
   "nbconvert_exporter": "python",
   "pygments_lexer": "ipython3",
   "version": "3.7.3"
  }
 },
 "nbformat": 4,
 "nbformat_minor": 2
}
