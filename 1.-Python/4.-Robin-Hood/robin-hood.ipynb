{
 "cells": [
  {
   "cell_type": "markdown",
   "metadata": {},
   "source": [
    "<img src=\"https://bit.ly/2VnXWr2\" width=\"100\" align=\"left\"/>"
   ]
  },
  {
   "cell_type": "markdown",
   "metadata": {},
   "source": [
    "# Robin Hood\n",
    "Robin Hood has entered a competition to win the archery contest in Sherwood. With his bow and arrows, he needs to shoot on a target and try to hit as close as possible to the center.\n",
    "\n",
    "![](images/arrows.jpg)\n",
    "\n",
    "## Context\n",
    "In this challenge, the landing position of arrows shot by archers in the competition will be represented using 2-dimensional coordinates. \n",
    "\n",
    "In the 2-dimensional space, a point can be defined by a pair of values that correspond to the horizontal coordinate (x) and the vertical coordinate (y). For example, in our case, an arrow that hits the center of the archery target will land in position (0, 0) on the coordinate axes. \n",
    "\n",
    "The space can be divided into 4 zones (quadrants): Q1, Q2, Q3, Q4. If a point is in Q1, both its x coordinate and y coordinate are positive. Any point with a null x or y coordinate is considered to not belong to any quadrant. \n",
    "\n",
    "If you want to know more about the cartesian coordinate system, you can check this [link](https://en.wikipedia.org/wiki/Cartesian_coordinate_system). \n",
    "\n",
    "## Tools\n",
    "You don't necessarily need to use all the tools. Maybe you opt to use some of them or completely different ones, they are given to help you shape the exercise. Programming exercises can be solved in many different ways.\n",
    "* Data structures: **lists, sets, tuples**\n",
    "* Conditional statements: **if-elif-else**\n",
    "* Loop: **while/for**\n",
    "* Minimum (optional sorting)\n",
    "\n",
    "## Tasks\n",
    "Robin Hood has hit the following points:"
   ]
  },
  {
   "cell_type": "code",
   "execution_count": 1,
   "metadata": {},
   "outputs": [],
   "source": [
    "points = [(4, 5), (-0, 2), (4, 7), (1, -3), (3, -2), (4, 5), (3, 2), (5, 7), (-5, 7), (2, 2), (-4, 5), (0, -2),\n",
    "          (-4, 7), (-1, 3), (-3, 2), (-4, -5), (-3, 2), (5, 7), (5, 7), (2, 2), (9, 9), (-8, -9)]"
   ]
  },
  {
   "cell_type": "markdown",
   "metadata": {},
   "source": [
    "#### 1. Robin Hood is famous for hitting an arrow with another arrow. Find the coordinates of the points where an arrow hits another arrow."
   ]
  },
  {
   "cell_type": "code",
   "execution_count": 2,
   "metadata": {},
   "outputs": [
    {
     "name": "stdout",
     "output_type": "stream",
     "text": [
      "Lista de ocorrências: {(-3, 2): 2, (2, 2): 2, (4, 5): 2, (5, 7): 3}\n",
      "Para a flecha (-3, 2) tiveram 2 ocorrências.\n",
      "Para a flecha (2, 2) tiveram 2 ocorrências.\n",
      "Para a flecha (4, 5) tiveram 2 ocorrências.\n",
      "Para a flecha (5, 7) tiveram 3 ocorrências.\n"
     ]
    }
   ],
   "source": [
    "points.sort()\n",
    "\n",
    "ocorrencias = {}\n",
    "for n in points:\n",
    "    if points.count(n) > 1:\n",
    "        ocorrencias[n] = points.count(n)\n",
    "\n",
    "print(\"Lista de ocorrências:\", ocorrencias)\n",
    "\n",
    "for flechas in ocorrencias:\n",
    "    print(\"Para a flecha {} tiveram {} ocorrências.\".format(flechas, ocorrencias[flechas]))"
   ]
  },
  {
   "cell_type": "markdown",
   "metadata": {},
   "source": [
    "#### 2. Calculate how many arrows have fallen in each quadrant. \n",
    "**Note**: the arrows that fall in the axis (x=0 or y=0) don't belong to any quadrant."
   ]
  },
  {
   "cell_type": "code",
   "execution_count": 3,
   "metadata": {},
   "outputs": [
    {
     "name": "stdout",
     "output_type": "stream",
     "text": [
      "Quadrante 1: [(0, 2), (2, 2), (2, 2), (3, 2), (4, 5), (4, 5), (4, 7), (5, 7), (5, 7), (5, 7), (9, 9)]\n",
      "Quadrante 2: [(-5, 7), (-4, 5), (-4, 7), (-3, 2), (-3, 2), (-1, 3)]\n",
      "Quadrante 3: [(-8, -9), (-4, -5), (0, -2)]\n",
      "Quadrante 4: [(1, -3), (3, -2)]\n",
      "Centro: []\n"
     ]
    }
   ],
   "source": [
    "centro = []\n",
    "q1 = []\n",
    "q2 = []\n",
    "q3 = []\n",
    "q4 = []\n",
    "\n",
    "for x , y in points:\n",
    "    if x >= 0 and y >= 0:\n",
    "        if x == 0 and y == 0:\n",
    "            centro.append((x, y))\n",
    "        else:\n",
    "            q1.append((x, y))\n",
    "    elif x <= 0 and y >= 0:\n",
    "        q2.append((x, y))\n",
    "    elif x <= 0 and y <= 0:\n",
    "        q3.append((x, y))\n",
    "    elif x >= 0 and y <= 0:\n",
    "        q4.append((x, y))\n",
    "\n",
    "\n",
    "print(\"Quadrante 1:\", q1)\n",
    "print(\"Quadrante 2:\", q2)\n",
    "print(\"Quadrante 3:\", q3)\n",
    "print(\"Quadrante 4:\", q4)\n",
    "print(\"Centro:\", centro)"
   ]
  },
  {
   "cell_type": "markdown",
   "metadata": {},
   "source": [
    "#### 3. Find the point closest to the center. Calculate its distance to the center. \n",
    "Take into account that there might be more than one point at the minimum distance to the center.\n",
    "\n",
    "**Hint**: Use the Euclidean distance. You can find more information about it [here](https://en.wikipedia.org/wiki/Euclidean_distance).  \n",
    "**Hint**: Defining a function that calculates the distance to the center can help."
   ]
  },
  {
   "cell_type": "code",
   "execution_count": 6,
   "metadata": {},
   "outputs": [
    {
     "name": "stdout",
     "output_type": "stream",
     "text": [
      "Para (-8, -9) a distância é: 12.04\n",
      "Para (-5, 7) a distância é: 8.6\n",
      "Para (-4, -5) a distância é: 6.4\n",
      "Para (-4, 5) a distância é: 6.4\n",
      "Para (-4, 7) a distância é: 8.06\n",
      "Para (-3, 2) a distância é: 3.61\n",
      "Para (-3, 2) a distância é: 3.61\n",
      "Para (-1, 3) a distância é: 3.16\n",
      "Para (0, -2) a distância é: 2.0\n",
      "Para (0, 2) a distância é: 2.0\n",
      "Para (1, -3) a distância é: 3.16\n",
      "Para (2, 2) a distância é: 2.83\n",
      "Para (2, 2) a distância é: 2.83\n",
      "Para (3, -2) a distância é: 3.61\n",
      "Para (3, 2) a distância é: 3.61\n",
      "Para (4, 5) a distância é: 6.4\n",
      "Para (4, 5) a distância é: 6.4\n",
      "Para (4, 7) a distância é: 8.06\n",
      "Para (5, 7) a distância é: 8.6\n",
      "Para (5, 7) a distância é: 8.6\n",
      "Para (5, 7) a distância é: 8.6\n",
      "Para (9, 9) a distância é: 12.73\n",
      "A menor distâncias foi de  2.0 da flecha (0, 2)\n"
     ]
    }
   ],
   "source": [
    "import math\n",
    "\n",
    "distancias = {}\n",
    "lista_distancias = []\n",
    "\n",
    "for x, y in points:\n",
    "    dist = round(math.sqrt(x ** 2 + y ** 2), 2)\n",
    "    print(\"Para ({}, {})\".format(x , y), \"a distância é:\" , dist)\n",
    "    distancias[dist] = x,y\n",
    "    lista_distancias.append(dist)\n",
    "\n",
    "print(\"A menor distâncias foi de \", min(distancias), \"da flecha\", distancias[min(distancias)])"
   ]
  },
  {
   "cell_type": "markdown",
   "metadata": {},
   "source": [
    "#### 4. If the archery target has a radius of 9, calculate the number of arrows that won't hit the target. \n",
    "**Hint**: Use the function created in step 3. "
   ]
  },
  {
   "cell_type": "code",
   "execution_count": 8,
   "metadata": {},
   "outputs": [
    {
     "name": "stdout",
     "output_type": "stream",
     "text": [
      "A quantidade de flechas dentro do circulo foi de: 20\n"
     ]
    }
   ],
   "source": [
    "quantidade_dentro = 0\n",
    "\n",
    "for z in lista_distancias:\n",
    "    if z < 9:\n",
    "        quantidade_dentro += 1\n",
    "\n",
    "print(\"A quantidade de flechas dentro do circulo foi de:\", quantidade_dentro)"
   ]
  },
  {
   "cell_type": "code",
   "execution_count": null,
   "metadata": {},
   "outputs": [],
   "source": []
  }
 ],
 "metadata": {
  "kernelspec": {
   "display_name": "Python 3",
   "language": "python",
   "name": "python3"
  },
  "language_info": {
   "codemirror_mode": {
    "name": "ipython",
    "version": 3
   },
   "file_extension": ".py",
   "mimetype": "text/x-python",
   "name": "python",
   "nbconvert_exporter": "python",
   "pygments_lexer": "ipython3",
   "version": "3.7.3"
  }
 },
 "nbformat": 4,
 "nbformat_minor": 2
}
